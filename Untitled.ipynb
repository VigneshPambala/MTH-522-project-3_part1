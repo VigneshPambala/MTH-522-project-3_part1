{
 "cells": [
  {
   "cell_type": "code",
   "execution_count": 1,
   "id": "a09a1c8c-fc6c-4d49-835d-4cef42562175",
   "metadata": {},
   "outputs": [
    {
     "name": "stdout",
     "output_type": "stream",
     "text": [
      "cluster_map.html:\n",
      "<folium.folium.Map object at 0x000001A8499A9700>\n",
      "Number of incidents in each cluster:\n",
      "{3: 11158, 0: 10079, 2: 8016, 1: 7130}\n"
     ]
    }
   ],
   "source": [
    "import pandas as pd\n",
    "from sklearn.cluster import KMeans\n",
    "from geopy.distance import geodesic\n",
    "import folium\n",
    "\n",
    "# Load the dataset\n",
    "dataset = pd.read_csv('https://raw.githubusercontent.com/Sindhu-pathipati/Sindhu-pathipati-MTH-522-PROJECT_3/refs/heads/main/IndiaPoliticalViolence(no%20Islands_Kashmir_Ladakh).csv')\n",
    "\n",
    "# Extract Latitude and Longitude for clustering\n",
    "features = dataset[[\"latitude\", \"longitude\"]]\n",
    "\n",
    "# Set the number of clusters\n",
    "num_clusters = 4\n",
    "\n",
    "# Initialize the KMeans model\n",
    "kmeans_model = KMeans(n_clusters=num_clusters)\n",
    "\n",
    "# Fit the model to the data\n",
    "kmeans_model.fit(features)\n",
    "\n",
    "# Get cluster labels for each data point\n",
    "cluster_labels = kmeans_model.labels_\n",
    "\n",
    "# Add cluster labels to the dataset\n",
    "dataset['cluster'] = cluster_labels\n",
    "\n",
    "# Count the number of incidents in each cluster\n",
    "cluster_counts = dataset[\"cluster\"].value_counts().to_dict()\n",
    "\n",
    "# Create a map centered on the average Latitude and Longitude\n",
    "map_center = [dataset['latitude'].mean(), dataset['longitude'].mean()]\n",
    "map_clusters = folium.Map(location=map_center, zoom_start=5)\n",
    "\n",
    "# Define colors for each cluster\n",
    "colors = ['red', 'blue', 'green', 'yellow']\n",
    "\n",
    "# Add data points to the map, coloring them based on their cluster\n",
    "for index, row in dataset.iterrows():\n",
    "    folium.CircleMarker(\n",
    "        location=[row['latitude'], row['longitude']],\n",
    "        radius=5,\n",
    "        color=colors[row['cluster']],\n",
    "        fill=True,\n",
    "        fill_color=colors[row['cluster']],\n",
    "        fill_opacity=0.8,\n",
    "        popup=f\"Cluster: {row['cluster']}<br>Incidents: {cluster_counts[row['cluster']]}\",\n",
    "    ).add_to(map_clusters)\n",
    "\n",
    "# Save the map as an HTML file\n",
    "map_clusters.save(\"cluster_map.html\")\n",
    "print(\"cluster_map.html:\")\n",
    "print(map_clusters)\n",
    "\n",
    "# Display the number of incidents in each cluster\n",
    "print(\"Number of incidents in each cluster:\")\n",
    "print(cluster_counts)"
   ]
  },
  {
   "cell_type": "code",
   "execution_count": null,
   "id": "1585cd73-f330-43ff-be14-71cd1bb9d968",
   "metadata": {},
   "outputs": [],
   "source": []
  },
  {
   "cell_type": "code",
   "execution_count": null,
   "id": "9ed17890-6be3-48d0-8e68-65d5e1eb1f10",
   "metadata": {},
   "outputs": [],
   "source": []
  }
 ],
 "metadata": {
  "kernelspec": {
   "display_name": "Python 3 (ipykernel)",
   "language": "python",
   "name": "python3"
  },
  "language_info": {
   "codemirror_mode": {
    "name": "ipython",
    "version": 3
   },
   "file_extension": ".py",
   "mimetype": "text/x-python",
   "name": "python",
   "nbconvert_exporter": "python",
   "pygments_lexer": "ipython3",
   "version": "3.12.4"
  }
 },
 "nbformat": 4,
 "nbformat_minor": 5
}
